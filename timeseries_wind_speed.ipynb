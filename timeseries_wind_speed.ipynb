{
 "cells": [
  {
   "cell_type": "code",
   "execution_count": 1,
   "id": "23becf7c",
   "metadata": {
    "pycharm": {
     "name": "#%%\n"
    }
   },
   "outputs": [],
   "source": [
    "from datetime import datetime\n",
    "import polars as pl\n",
    "import numpy as np\n",
    "from pyarrow.dataset import write_dataset"
   ]
  },
  {
   "cell_type": "code",
   "execution_count": 2,
   "id": "7fafce1a",
   "metadata": {
    "pycharm": {
     "name": "#%%\n"
    }
   },
   "outputs": [],
   "source": [
    "rng = np.random.default_rng()"
   ]
  },
  {
   "cell_type": "code",
   "execution_count": 3,
   "id": "0f5b2109",
   "metadata": {
    "pycharm": {
     "name": "#%%\n"
    }
   },
   "outputs": [
    {
     "data": {
      "text/plain": "shape: (8, 3)\n┌───────────┬───────┬────────────────┐\n│ WindSpeed ┆ dummy ┆ init_wsp_value │\n│ ---       ┆ ---   ┆ ---            │\n│ str       ┆ bool  ┆ f64            │\n╞═══════════╪═══════╪════════════════╡\n│ wsp1      ┆ true  ┆ 6.362013       │\n├╌╌╌╌╌╌╌╌╌╌╌┼╌╌╌╌╌╌╌┼╌╌╌╌╌╌╌╌╌╌╌╌╌╌╌╌┤\n│ wsp2      ┆ true  ┆ 6.241776       │\n├╌╌╌╌╌╌╌╌╌╌╌┼╌╌╌╌╌╌╌┼╌╌╌╌╌╌╌╌╌╌╌╌╌╌╌╌┤\n│ wsp3      ┆ true  ┆ 16.536649      │\n├╌╌╌╌╌╌╌╌╌╌╌┼╌╌╌╌╌╌╌┼╌╌╌╌╌╌╌╌╌╌╌╌╌╌╌╌┤\n│ wsp4      ┆ true  ┆ 3.355752       │\n├╌╌╌╌╌╌╌╌╌╌╌┼╌╌╌╌╌╌╌┼╌╌╌╌╌╌╌╌╌╌╌╌╌╌╌╌┤\n│ wsp5      ┆ true  ┆ 8.058262       │\n├╌╌╌╌╌╌╌╌╌╌╌┼╌╌╌╌╌╌╌┼╌╌╌╌╌╌╌╌╌╌╌╌╌╌╌╌┤\n│ wsp6      ┆ true  ┆ 4.023754       │\n├╌╌╌╌╌╌╌╌╌╌╌┼╌╌╌╌╌╌╌┼╌╌╌╌╌╌╌╌╌╌╌╌╌╌╌╌┤\n│ wsp7      ┆ true  ┆ 6.739918       │\n├╌╌╌╌╌╌╌╌╌╌╌┼╌╌╌╌╌╌╌┼╌╌╌╌╌╌╌╌╌╌╌╌╌╌╌╌┤\n│ wsp8      ┆ true  ┆ 22.248208      │\n└───────────┴───────┴────────────────┘",
      "text/html": "<div>\n<style scoped>\n    .dataframe tbody tr th:only-of-type {\n        vertical-align: middle;\n    }\n\n    .dataframe tbody tr th {\n        vertical-align: top;\n    }\n\n    .dataframe thead th {\n        text-align: right;\n    }\n\n    .dataframe td {\n        white-space: pre;\n    }\n\n    .dataframe td {\n        padding-top: 0;\n    }\n\n    .dataframe td {\n        padding-bottom: 0;\n    }\n\n    .dataframe td {\n        line-height: 95%;\n    }\n</style>\n<table border=\"1\" class=\"dataframe\" >\n<small>shape: (8, 3)</small>\n<thead>\n<tr>\n<th>\nWindSpeed\n</th>\n<th>\ndummy\n</th>\n<th>\ninit_wsp_value\n</th>\n</tr>\n<tr>\n<td>\nstr\n</td>\n<td>\nbool\n</td>\n<td>\nf64\n</td>\n</tr>\n</thead>\n<tbody>\n<tr>\n<td>\n\"wsp1\"\n</td>\n<td>\ntrue\n</td>\n<td>\n6.362013\n</td>\n</tr>\n<tr>\n<td>\n\"wsp2\"\n</td>\n<td>\ntrue\n</td>\n<td>\n6.241776\n</td>\n</tr>\n<tr>\n<td>\n\"wsp3\"\n</td>\n<td>\ntrue\n</td>\n<td>\n16.536649\n</td>\n</tr>\n<tr>\n<td>\n\"wsp4\"\n</td>\n<td>\ntrue\n</td>\n<td>\n3.355752\n</td>\n</tr>\n<tr>\n<td>\n\"wsp5\"\n</td>\n<td>\ntrue\n</td>\n<td>\n8.058262\n</td>\n</tr>\n<tr>\n<td>\n\"wsp6\"\n</td>\n<td>\ntrue\n</td>\n<td>\n4.023754\n</td>\n</tr>\n<tr>\n<td>\n\"wsp7\"\n</td>\n<td>\ntrue\n</td>\n<td>\n6.739918\n</td>\n</tr>\n<tr>\n<td>\n\"wsp8\"\n</td>\n<td>\ntrue\n</td>\n<td>\n22.248208\n</td>\n</tr>\n</tbody>\n</table>\n</div>"
     },
     "execution_count": 3,
     "metadata": {},
     "output_type": "execute_result"
    }
   ],
   "source": [
    "df = pl.read_csv(\"external_ids.csv\", columns=[\"WindSpeed\"])\n",
    "df[\"dummy\"] = pl.repeat(value=True, n=df.height, eager=True)\n",
    "df[\"init_wsp_value\"] = pl.Series(rng.lognormal(mean=2, sigma=0.5, size=df.height))\n",
    "df"
   ]
  },
  {
   "cell_type": "code",
   "execution_count": 4,
   "id": "acdafaa5",
   "metadata": {
    "pycharm": {
     "name": "#%%\n"
    }
   },
   "outputs": [],
   "source": [
    "def add_timestamp_partition_columns(df):\n",
    "    df[\"year\"] = df[\"timestamp\"].dt.year()\n",
    "    df[\"month\"] = df[\"timestamp\"].dt.month()\n",
    "    df[\"day\"] = df[\"timestamp\"].dt.day()"
   ]
  },
  {
   "cell_type": "code",
   "execution_count": 5,
   "outputs": [],
   "source": [
    "by = [\"year\", \"month\", \"day\", \"id\"]"
   ],
   "metadata": {
    "collapsed": false,
    "pycharm": {
     "name": "#%%\n"
    }
   }
  },
  {
   "cell_type": "code",
   "execution_count": 6,
   "outputs": [
    {
     "name": "stdout",
     "output_type": "stream",
     "text": [
      "8 29 0\n",
      "8 29 1\n",
      "8 29 2\n",
      "8 29 3\n",
      "8 29 4\n",
      "8 29 5\n",
      "8 29 6\n",
      "8 29 7\n",
      "8 29 8\n",
      "8 29 9\n",
      "8 29 10\n",
      "8 29 11\n",
      "8 29 12\n",
      "8 29 13\n",
      "8 29 14\n",
      "8 29 15\n",
      "8 29 16\n",
      "8 29 17\n",
      "8 29 18\n",
      "8 29 19\n",
      "8 29 20\n",
      "8 29 21\n",
      "8 29 22\n",
      "8 29 23\n",
      "8 30 0\n",
      "8 30 1\n",
      "8 30 2\n",
      "8 30 3\n",
      "8 30 4\n",
      "8 30 5\n",
      "8 30 6\n",
      "8 30 7\n",
      "8 30 8\n",
      "8 30 9\n",
      "8 30 10\n",
      "8 30 11\n",
      "8 30 12\n",
      "8 30 13\n",
      "8 30 14\n",
      "8 30 15\n",
      "8 30 16\n",
      "8 30 17\n",
      "8 30 18\n",
      "8 30 19\n",
      "8 30 20\n",
      "8 30 21\n",
      "8 30 22\n",
      "8 30 23\n",
      "9 1 0\n",
      "9 1 1\n",
      "9 1 2\n",
      "9 1 3\n",
      "9 1 4\n",
      "9 1 5\n",
      "9 1 6\n",
      "9 1 7\n",
      "9 1 8\n",
      "9 1 9\n",
      "9 1 10\n",
      "9 1 11\n",
      "9 1 12\n",
      "9 1 13\n",
      "9 1 14\n",
      "9 1 15\n",
      "9 1 16\n",
      "9 1 17\n",
      "9 1 18\n",
      "9 1 19\n",
      "9 1 20\n",
      "9 1 21\n",
      "9 1 22\n",
      "9 1 23\n"
     ]
    }
   ],
   "source": [
    "datapoint_counter = 0\n",
    "for (month,day) in [(8,29),(8,30),(9,1)]:\n",
    "    out_wsp = []\n",
    "    for hour in range(0,24):\n",
    "        print(month, day, hour)\n",
    "        timestamps = pl.DataFrame({\"timestamp\":pl.date_range(low=datetime(2022,month,day,hour,0,0), high=datetime(2022,month,day,hour,59,59), interval=\"10s\")})\n",
    "        timestamps[\"dummy\"] = pl.repeat(value=True, n=timestamps.height, eager=True)\n",
    "        wind_speed_deltas = rng.normal(0, 1.0, size=df.height * timestamps.height)\n",
    "\n",
    "        wsp = df[[\"init_wsp_value\", \"WindSpeed\", \"dummy\"]].join(timestamps, left_on=[\"dummy\"], right_on=[\"dummy\"]).drop(\"dummy\").rename({\"WindSpeed\":\"id\"})\n",
    "\n",
    "        wsp[\"value\"] = wind_speed_deltas\n",
    "        wsp[\"value\"] = wsp.groupby([\"id\"], maintain_order=True).apply(lambda x: pl.DataFrame({\"value\":x[\"value\"].cumsum()}))[\"value\"]\n",
    "        wsp[\"value\"] = wsp[\"init_wsp_value\"] + wsp[\"value\"]\n",
    "        wsp[\"value\"] = wsp[\"value\"].abs()\n",
    "        df[\"init_wsp_value\"] = wsp.groupby([\"id\"], maintain_order=True).apply(lambda x:pl.DataFrame({\"init_wsp_value\":x[\"value\"].tail(1)}))[\"init_wsp_value\"]\n",
    "        wsp = wsp.drop(\"init_wsp_value\")\n",
    "        add_timestamp_partition_columns(wsp)\n",
    "        wsp = wsp.sort(by)\n",
    "        wsp[\"datapoint_id\"] = wsp.get_column(\"id\") + \"_\" + pl.Series(\"counter\", range(datapoint_counter,datapoint_counter + wsp.height)).cast(str)\n",
    "        datapoint_counter += wsp.height\n",
    "        out_wsp.append(wsp)\n",
    "\n",
    "    wsp_arrow = pl.concat(out_wsp, rechunk=True).to_arrow()\n",
    "    write_dataset(wsp_arrow, format=\"parquet\", base_dir=\"timeseries_double\", partitioning=by, use_threads=False, existing_data_behavior=\"overwrite_or_ignore\", min_rows_per_group=1073741824, max_rows_per_group=1073741824,  max_partitions=10000, max_open_files=10000, max_rows_per_file=1073741824)\n"
   ],
   "metadata": {
    "collapsed": false,
    "pycharm": {
     "name": "#%%\n"
    }
   }
  }
 ],
 "metadata": {
  "kernelspec": {
   "display_name": "Python 3 (ipykernel)",
   "language": "python",
   "name": "python3"
  },
  "language_info": {
   "codemirror_mode": {
    "name": "ipython",
    "version": 3
   },
   "file_extension": ".py",
   "mimetype": "text/x-python",
   "name": "python",
   "nbconvert_exporter": "python",
   "pygments_lexer": "ipython3",
   "version": "3.10.4"
  }
 },
 "nbformat": 4,
 "nbformat_minor": 5
}