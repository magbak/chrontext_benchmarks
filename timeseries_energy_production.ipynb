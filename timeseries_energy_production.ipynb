{
 "cells": [
  {
   "cell_type": "code",
   "execution_count": 1,
   "id": "23becf7c",
   "metadata": {
    "pycharm": {
     "name": "#%%\n"
    }
   },
   "outputs": [],
   "source": [
    "from datetime import datetime\n",
    "import polars as pl\n",
    "import numpy as np\n",
    "from pyarrow.dataset import write_dataset"
   ]
  },
  {
   "cell_type": "code",
   "execution_count": 2,
   "id": "7fafce1a",
   "metadata": {
    "pycharm": {
     "name": "#%%\n"
    }
   },
   "outputs": [],
   "source": [
    "rng = np.random.default_rng()"
   ]
  },
  {
   "cell_type": "code",
   "execution_count": 3,
   "id": "0f5b2109",
   "metadata": {
    "pycharm": {
     "name": "#%%\n"
    }
   },
   "outputs": [
    {
     "data": {
      "text/plain": "shape: (8, 6)\n┌───────────────────┬───────────┬──────────────────┬───────┬───────────────┬─────────────────┐\n│ MaximumPowerValue ┆ Operating ┆ EnergyProduction ┆ dummy ┆ init_ep_value ┆ operating_value │\n│ ---               ┆ ---       ┆ ---              ┆ ---   ┆ ---           ┆ ---             │\n│ i64               ┆ str       ┆ str              ┆ bool  ┆ f64           ┆ bool            │\n╞═══════════════════╪═══════════╪══════════════════╪═══════╪═══════════════╪═════════════════╡\n│ 10000000          ┆ oper1     ┆ ep1              ┆ true  ┆ 4.8451e6      ┆ true            │\n├╌╌╌╌╌╌╌╌╌╌╌╌╌╌╌╌╌╌╌┼╌╌╌╌╌╌╌╌╌╌╌┼╌╌╌╌╌╌╌╌╌╌╌╌╌╌╌╌╌╌┼╌╌╌╌╌╌╌┼╌╌╌╌╌╌╌╌╌╌╌╌╌╌╌┼╌╌╌╌╌╌╌╌╌╌╌╌╌╌╌╌╌┤\n│ 15000000          ┆ oper2     ┆ ep2              ┆ true  ┆ 1.2399e7      ┆ true            │\n├╌╌╌╌╌╌╌╌╌╌╌╌╌╌╌╌╌╌╌┼╌╌╌╌╌╌╌╌╌╌╌┼╌╌╌╌╌╌╌╌╌╌╌╌╌╌╌╌╌╌┼╌╌╌╌╌╌╌┼╌╌╌╌╌╌╌╌╌╌╌╌╌╌╌┼╌╌╌╌╌╌╌╌╌╌╌╌╌╌╌╌╌┤\n│ 5000000           ┆ oper3     ┆ ep3              ┆ true  ┆ 4.7415e6      ┆ true            │\n├╌╌╌╌╌╌╌╌╌╌╌╌╌╌╌╌╌╌╌┼╌╌╌╌╌╌╌╌╌╌╌┼╌╌╌╌╌╌╌╌╌╌╌╌╌╌╌╌╌╌┼╌╌╌╌╌╌╌┼╌╌╌╌╌╌╌╌╌╌╌╌╌╌╌┼╌╌╌╌╌╌╌╌╌╌╌╌╌╌╌╌╌┤\n│ 10000000          ┆ oper4     ┆ ep4              ┆ true  ┆ 4.7348e6      ┆ true            │\n├╌╌╌╌╌╌╌╌╌╌╌╌╌╌╌╌╌╌╌┼╌╌╌╌╌╌╌╌╌╌╌┼╌╌╌╌╌╌╌╌╌╌╌╌╌╌╌╌╌╌┼╌╌╌╌╌╌╌┼╌╌╌╌╌╌╌╌╌╌╌╌╌╌╌┼╌╌╌╌╌╌╌╌╌╌╌╌╌╌╌╌╌┤\n│ 15000000          ┆ oper5     ┆ ep5              ┆ true  ┆ 8.1865e6      ┆ true            │\n├╌╌╌╌╌╌╌╌╌╌╌╌╌╌╌╌╌╌╌┼╌╌╌╌╌╌╌╌╌╌╌┼╌╌╌╌╌╌╌╌╌╌╌╌╌╌╌╌╌╌┼╌╌╌╌╌╌╌┼╌╌╌╌╌╌╌╌╌╌╌╌╌╌╌┼╌╌╌╌╌╌╌╌╌╌╌╌╌╌╌╌╌┤\n│ 5000000           ┆ oper6     ┆ ep6              ┆ true  ┆ 2.2696e6      ┆ true            │\n├╌╌╌╌╌╌╌╌╌╌╌╌╌╌╌╌╌╌╌┼╌╌╌╌╌╌╌╌╌╌╌┼╌╌╌╌╌╌╌╌╌╌╌╌╌╌╌╌╌╌┼╌╌╌╌╌╌╌┼╌╌╌╌╌╌╌╌╌╌╌╌╌╌╌┼╌╌╌╌╌╌╌╌╌╌╌╌╌╌╌╌╌┤\n│ 10000000          ┆ oper7     ┆ ep7              ┆ true  ┆ 7.0309e6      ┆ true            │\n├╌╌╌╌╌╌╌╌╌╌╌╌╌╌╌╌╌╌╌┼╌╌╌╌╌╌╌╌╌╌╌┼╌╌╌╌╌╌╌╌╌╌╌╌╌╌╌╌╌╌┼╌╌╌╌╌╌╌┼╌╌╌╌╌╌╌╌╌╌╌╌╌╌╌┼╌╌╌╌╌╌╌╌╌╌╌╌╌╌╌╌╌┤\n│ 15000000          ┆ oper8     ┆ ep8              ┆ true  ┆ 2.5461e6      ┆ true            │\n└───────────────────┴───────────┴──────────────────┴───────┴───────────────┴─────────────────┘",
      "text/html": "<div>\n<style scoped>\n    .dataframe tbody tr th:only-of-type {\n        vertical-align: middle;\n    }\n\n    .dataframe tbody tr th {\n        vertical-align: top;\n    }\n\n    .dataframe thead th {\n        text-align: right;\n    }\n\n    .dataframe td {\n        white-space: pre;\n    }\n\n    .dataframe td {\n        padding-top: 0;\n    }\n\n    .dataframe td {\n        padding-bottom: 0;\n    }\n\n    .dataframe td {\n        line-height: 95%;\n    }\n</style>\n<table border=\"1\" class=\"dataframe\" >\n<small>shape: (8, 6)</small>\n<thead>\n<tr>\n<th>\nMaximumPowerValue\n</th>\n<th>\nOperating\n</th>\n<th>\nEnergyProduction\n</th>\n<th>\ndummy\n</th>\n<th>\ninit_ep_value\n</th>\n<th>\noperating_value\n</th>\n</tr>\n<tr>\n<td>\ni64\n</td>\n<td>\nstr\n</td>\n<td>\nstr\n</td>\n<td>\nbool\n</td>\n<td>\nf64\n</td>\n<td>\nbool\n</td>\n</tr>\n</thead>\n<tbody>\n<tr>\n<td>\n10000000\n</td>\n<td>\n\"oper1\"\n</td>\n<td>\n\"ep1\"\n</td>\n<td>\ntrue\n</td>\n<td>\n4.8451e6\n</td>\n<td>\ntrue\n</td>\n</tr>\n<tr>\n<td>\n15000000\n</td>\n<td>\n\"oper2\"\n</td>\n<td>\n\"ep2\"\n</td>\n<td>\ntrue\n</td>\n<td>\n1.2399e7\n</td>\n<td>\ntrue\n</td>\n</tr>\n<tr>\n<td>\n5000000\n</td>\n<td>\n\"oper3\"\n</td>\n<td>\n\"ep3\"\n</td>\n<td>\ntrue\n</td>\n<td>\n4.7415e6\n</td>\n<td>\ntrue\n</td>\n</tr>\n<tr>\n<td>\n10000000\n</td>\n<td>\n\"oper4\"\n</td>\n<td>\n\"ep4\"\n</td>\n<td>\ntrue\n</td>\n<td>\n4.7348e6\n</td>\n<td>\ntrue\n</td>\n</tr>\n<tr>\n<td>\n15000000\n</td>\n<td>\n\"oper5\"\n</td>\n<td>\n\"ep5\"\n</td>\n<td>\ntrue\n</td>\n<td>\n8.1865e6\n</td>\n<td>\ntrue\n</td>\n</tr>\n<tr>\n<td>\n5000000\n</td>\n<td>\n\"oper6\"\n</td>\n<td>\n\"ep6\"\n</td>\n<td>\ntrue\n</td>\n<td>\n2.2696e6\n</td>\n<td>\ntrue\n</td>\n</tr>\n<tr>\n<td>\n10000000\n</td>\n<td>\n\"oper7\"\n</td>\n<td>\n\"ep7\"\n</td>\n<td>\ntrue\n</td>\n<td>\n7.0309e6\n</td>\n<td>\ntrue\n</td>\n</tr>\n<tr>\n<td>\n15000000\n</td>\n<td>\n\"oper8\"\n</td>\n<td>\n\"ep8\"\n</td>\n<td>\ntrue\n</td>\n<td>\n2.5461e6\n</td>\n<td>\ntrue\n</td>\n</tr>\n</tbody>\n</table>\n</div>"
     },
     "execution_count": 3,
     "metadata": {},
     "output_type": "execute_result"
    }
   ],
   "source": [
    "df = pl.read_csv(\"external_ids.csv\", columns=[\"MaximumPowerValue\", \"Operating\", \"EnergyProduction\"])\n",
    "df[\"dummy\"] = pl.repeat(value=True, n=df.height, eager=True)\n",
    "df[\"init_ep_value\"] = df[\"MaximumPowerValue\"] * pl.Series(rng.uniform(size=df.height))\n",
    "df[\"operating_value\"] = pl.Series(rng.uniform(size=df.height) > 0.01)\n",
    "df"
   ]
  },
  {
   "cell_type": "code",
   "execution_count": 3,
   "id": "b7dd43c3",
   "metadata": {
    "pycharm": {
     "name": "#%%\n"
    }
   },
   "outputs": [],
   "source": []
  },
  {
   "cell_type": "code",
   "execution_count": 4,
   "id": "acdafaa5",
   "metadata": {
    "pycharm": {
     "name": "#%%\n"
    }
   },
   "outputs": [],
   "source": [
    "def add_timestamp_partition_columns(df):\n",
    "    df[\"year\"] = df[\"timestamp\"].dt.year()\n",
    "    df[\"month\"] = df[\"timestamp\"].dt.month()\n",
    "    df[\"day\"] = df[\"timestamp\"].dt.day()"
   ]
  },
  {
   "cell_type": "code",
   "execution_count": 5,
   "outputs": [],
   "source": [
    "by = [\"year\", \"month\", \"day\", \"id\"]"
   ],
   "metadata": {
    "collapsed": false,
    "pycharm": {
     "name": "#%%\n"
    }
   }
  },
  {
   "cell_type": "code",
   "execution_count": 6,
   "id": "5c4db93a",
   "metadata": {
    "pycharm": {
     "name": "#%%\n"
    }
   },
   "outputs": [
    {
     "name": "stdout",
     "output_type": "stream",
     "text": [
      "8 29 0\n",
      "8 29 1\n",
      "8 29 2\n",
      "8 29 3\n",
      "8 29 4\n",
      "8 29 5\n",
      "8 29 6\n",
      "8 29 7\n",
      "8 29 8\n",
      "8 29 9\n",
      "8 29 10\n",
      "8 29 11\n",
      "8 29 12\n",
      "8 29 13\n",
      "8 29 14\n",
      "8 29 15\n",
      "8 29 16\n",
      "8 29 17\n",
      "8 29 18\n",
      "8 29 19\n",
      "8 29 20\n",
      "8 29 21\n",
      "8 29 22\n",
      "8 29 23\n",
      "8 30 0\n",
      "8 30 1\n",
      "8 30 2\n",
      "8 30 3\n",
      "8 30 4\n",
      "8 30 5\n",
      "8 30 6\n",
      "8 30 7\n",
      "8 30 8\n",
      "8 30 9\n",
      "8 30 10\n",
      "8 30 11\n",
      "8 30 12\n",
      "8 30 13\n",
      "8 30 14\n",
      "8 30 15\n",
      "8 30 16\n",
      "8 30 17\n",
      "8 30 18\n",
      "8 30 19\n",
      "8 30 20\n",
      "8 30 21\n",
      "8 30 22\n",
      "8 30 23\n",
      "9 1 0\n",
      "9 1 1\n",
      "9 1 2\n",
      "9 1 3\n",
      "9 1 4\n",
      "9 1 5\n",
      "9 1 6\n",
      "9 1 7\n",
      "9 1 8\n",
      "9 1 9\n",
      "9 1 10\n",
      "9 1 11\n",
      "9 1 12\n",
      "9 1 13\n",
      "9 1 14\n",
      "9 1 15\n",
      "9 1 16\n",
      "9 1 17\n",
      "9 1 18\n",
      "9 1 19\n",
      "9 1 20\n",
      "9 1 21\n",
      "9 1 22\n",
      "9 1 23\n"
     ]
    }
   ],
   "source": [
    "ep_datapoint_counter = 0\n",
    "op_datapoint_counter = 0\n",
    "for (month, day) in [(8, 29), (8, 30), (9, 1)]:\n",
    "    out_eps = []\n",
    "    out_ops = []\n",
    "    for hour in range(0, 24):\n",
    "        print(month, day, hour)\n",
    "        timestamps = pl.DataFrame({\"timestamp\": pl.date_range(low=datetime(2022, month, day, hour, 0, 0),\n",
    "                                                              high=datetime(2022, month, day, hour, 59, 59),\n",
    "                                                              interval=\"10s\")})\n",
    "        timestamps[\"dummy\"] = pl.repeat(value=True, n=timestamps.height, eager=True)\n",
    "\n",
    "        energy_production_deltas = rng.normal(0, 1_0000, size=df.height * timestamps.height)\n",
    "\n",
    "        ep = df[[\"init_ep_value\", \"EnergyProduction\", \"operating_value\", \"dummy\"]].join(timestamps, left_on=[\"dummy\"],\n",
    "                                                                                        right_on=[\"dummy\"]).drop(\n",
    "            \"dummy\").rename({\"EnergyProduction\": \"id\"})\n",
    "\n",
    "        ep[\"value\"] = energy_production_deltas\n",
    "        ep[\"value\"] = ep.groupby([\"id\"], maintain_order=True).apply(lambda x: pl.DataFrame({\"value\": x[\"value\"].cumsum()}))[\"value\"]\n",
    "        ep[\"value\"] = ep[\"value\"] + ep[\"init_ep_value\"]\n",
    "        df[\"init_ep_value\"] = ep.groupby([\"id\"], maintain_order=True).apply(lambda x: pl.DataFrame({\"init_ep_value\": x[\"value\"].tail(1)}))[\n",
    "            \"init_ep_value\"]\n",
    "\n",
    "        ep = ep.drop(\"init_ep_value\")\n",
    "        add_timestamp_partition_columns(ep)\n",
    "\n",
    "        ep = ep.filter(pl.col(\"operating_value\")).drop(\"operating_value\")\n",
    "        ep = ep.sort(by)\n",
    "        ep[\"datapoint_id\"] = ep.get_column(\"id\") + \"_\" + pl.Series(\"counter\", range(ep_datapoint_counter, ep_datapoint_counter + ep.height)).cast(str)\n",
    "        ep_datapoint_counter += ep.height\n",
    "\n",
    "        op = df[[\"Operating\", \"operating_value\", \"dummy\"]].join(timestamps, left_on=[\"dummy\"], right_on=[\"dummy\"]).drop(\n",
    "            \"dummy\").rename({\"Operating\": \"id\", \"operating_value\": \"value\"})\n",
    "        add_timestamp_partition_columns(op)\n",
    "        op = op.sort(by)\n",
    "        op[\"datapoint_id\"] = op.get_column(\"id\") + \"_\" + pl.Series(\"counter\", range(op_datapoint_counter, op_datapoint_counter + op.height)).cast(str)\n",
    "        op_datapoint_counter += op.height\n",
    "\n",
    "        out_ops.append(op)\n",
    "        out_eps.append(ep)\n",
    "\n",
    "    op_arrow = pl.concat(out_ops, rechunk=True).to_arrow()\n",
    "    write_dataset(op_arrow, format=\"parquet\", base_dir=\"timeseries_boolean\", partitioning=by, use_threads=False,\n",
    "                  min_rows_per_group=1073741824, max_partitions=10000, max_rows_per_file=1073741824,\n",
    "                  existing_data_behavior=\"overwrite_or_ignore\", max_rows_per_group=1073741824)\n",
    "    op_arrow = None #Cause gc?\n",
    "\n",
    "    ep_arrow = pl.concat(out_eps, rechunk=True).to_arrow()\n",
    "    write_dataset(ep_arrow, format=\"parquet\", base_dir=\"timeseries_double\", partitioning=by, use_threads=False,\n",
    "                  existing_data_behavior=\"overwrite_or_ignore\", min_rows_per_group=1073741824, max_rows_per_file=1073741824,\n",
    "                  max_rows_per_group=1073741824, max_partitions=10000, max_open_files=10000)"
   ]
  }
 ],
 "metadata": {
  "kernelspec": {
   "display_name": "Python 3 (ipykernel)",
   "language": "python",
   "name": "python3"
  },
  "language_info": {
   "codemirror_mode": {
    "name": "ipython",
    "version": 3
   },
   "file_extension": ".py",
   "mimetype": "text/x-python",
   "name": "python",
   "nbconvert_exporter": "python",
   "pygments_lexer": "ipython3",
   "version": "3.10.4"
  }
 },
 "nbformat": 4,
 "nbformat_minor": 5
}