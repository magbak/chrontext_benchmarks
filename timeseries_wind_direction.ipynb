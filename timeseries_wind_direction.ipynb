{
 "cells": [
  {
   "cell_type": "code",
   "execution_count": 13,
   "id": "23becf7c",
   "metadata": {
    "pycharm": {
     "name": "#%%\n"
    }
   },
   "outputs": [],
   "source": [
    "from datetime import datetime\n",
    "import polars as pl\n",
    "import numpy as np\n",
    "from pyarrow.dataset import write_dataset"
   ]
  },
  {
   "cell_type": "code",
   "execution_count": 14,
   "id": "7fafce1a",
   "metadata": {
    "pycharm": {
     "name": "#%%\n"
    }
   },
   "outputs": [],
   "source": [
    "rng = np.random.default_rng()"
   ]
  },
  {
   "cell_type": "code",
   "execution_count": 15,
   "id": "0f5b2109",
   "metadata": {
    "pycharm": {
     "name": "#%%\n"
    }
   },
   "outputs": [
    {
     "data": {
      "text/plain": "shape: (8, 3)\n┌───────────────┬───────┬─────────────────┐\n│ WindDirection ┆ dummy ┆ init_wdir_value │\n│ ---           ┆ ---   ┆ ---             │\n│ str           ┆ bool  ┆ f64             │\n╞═══════════════╪═══════╪═════════════════╡\n│ wdir1         ┆ true  ┆ 120.084212      │\n├╌╌╌╌╌╌╌╌╌╌╌╌╌╌╌┼╌╌╌╌╌╌╌┼╌╌╌╌╌╌╌╌╌╌╌╌╌╌╌╌╌┤\n│ wdir2         ┆ true  ┆ 291.825755      │\n├╌╌╌╌╌╌╌╌╌╌╌╌╌╌╌┼╌╌╌╌╌╌╌┼╌╌╌╌╌╌╌╌╌╌╌╌╌╌╌╌╌┤\n│ wdir3         ┆ true  ┆ 114.876751      │\n├╌╌╌╌╌╌╌╌╌╌╌╌╌╌╌┼╌╌╌╌╌╌╌┼╌╌╌╌╌╌╌╌╌╌╌╌╌╌╌╌╌┤\n│ wdir4         ┆ true  ┆ 182.311029      │\n├╌╌╌╌╌╌╌╌╌╌╌╌╌╌╌┼╌╌╌╌╌╌╌┼╌╌╌╌╌╌╌╌╌╌╌╌╌╌╌╌╌┤\n│ wdir5         ┆ true  ┆ 0.748241        │\n├╌╌╌╌╌╌╌╌╌╌╌╌╌╌╌┼╌╌╌╌╌╌╌┼╌╌╌╌╌╌╌╌╌╌╌╌╌╌╌╌╌┤\n│ wdir6         ┆ true  ┆ 48.709457       │\n├╌╌╌╌╌╌╌╌╌╌╌╌╌╌╌┼╌╌╌╌╌╌╌┼╌╌╌╌╌╌╌╌╌╌╌╌╌╌╌╌╌┤\n│ wdir7         ┆ true  ┆ 237.744829      │\n├╌╌╌╌╌╌╌╌╌╌╌╌╌╌╌┼╌╌╌╌╌╌╌┼╌╌╌╌╌╌╌╌╌╌╌╌╌╌╌╌╌┤\n│ wdir8         ┆ true  ┆ 254.154982      │\n└───────────────┴───────┴─────────────────┘",
      "text/html": "<div>\n<style scoped>\n    .dataframe tbody tr th:only-of-type {\n        vertical-align: middle;\n    }\n\n    .dataframe tbody tr th {\n        vertical-align: top;\n    }\n\n    .dataframe thead th {\n        text-align: right;\n    }\n\n    .dataframe td {\n        white-space: pre;\n    }\n\n    .dataframe td {\n        padding-top: 0;\n    }\n\n    .dataframe td {\n        padding-bottom: 0;\n    }\n\n    .dataframe td {\n        line-height: 95%;\n    }\n</style>\n<table border=\"1\" class=\"dataframe\" >\n<small>shape: (8, 3)</small>\n<thead>\n<tr>\n<th>\nWindDirection\n</th>\n<th>\ndummy\n</th>\n<th>\ninit_wdir_value\n</th>\n</tr>\n<tr>\n<td>\nstr\n</td>\n<td>\nbool\n</td>\n<td>\nf64\n</td>\n</tr>\n</thead>\n<tbody>\n<tr>\n<td>\n\"wdir1\"\n</td>\n<td>\ntrue\n</td>\n<td>\n120.084212\n</td>\n</tr>\n<tr>\n<td>\n\"wdir2\"\n</td>\n<td>\ntrue\n</td>\n<td>\n291.825755\n</td>\n</tr>\n<tr>\n<td>\n\"wdir3\"\n</td>\n<td>\ntrue\n</td>\n<td>\n114.876751\n</td>\n</tr>\n<tr>\n<td>\n\"wdir4\"\n</td>\n<td>\ntrue\n</td>\n<td>\n182.311029\n</td>\n</tr>\n<tr>\n<td>\n\"wdir5\"\n</td>\n<td>\ntrue\n</td>\n<td>\n0.748241\n</td>\n</tr>\n<tr>\n<td>\n\"wdir6\"\n</td>\n<td>\ntrue\n</td>\n<td>\n48.709457\n</td>\n</tr>\n<tr>\n<td>\n\"wdir7\"\n</td>\n<td>\ntrue\n</td>\n<td>\n237.744829\n</td>\n</tr>\n<tr>\n<td>\n\"wdir8\"\n</td>\n<td>\ntrue\n</td>\n<td>\n254.154982\n</td>\n</tr>\n</tbody>\n</table>\n</div>"
     },
     "execution_count": 15,
     "metadata": {},
     "output_type": "execute_result"
    }
   ],
   "source": [
    "df = pl.read_csv(\"external_ids.csv\", columns=[\"WindDirection\"])\n",
    "df[\"dummy\"] = pl.repeat(value=True, n=df.height, eager=True)\n",
    "df[\"init_wdir_value\"] = pl.Series(rng.uniform(low=0.0, high=360.0, size=df.height))\n",
    "df"
   ]
  },
  {
   "cell_type": "code",
   "execution_count": 15,
   "id": "b7dd43c3",
   "metadata": {
    "pycharm": {
     "name": "#%%\n"
    }
   },
   "outputs": [],
   "source": []
  },
  {
   "cell_type": "code",
   "execution_count": 16,
   "id": "acdafaa5",
   "metadata": {
    "pycharm": {
     "name": "#%%\n"
    }
   },
   "outputs": [],
   "source": [
    "def add_timestamp_partition_columns(df):\n",
    "    df[\"year\"] = df[\"timestamp\"].dt.year()\n",
    "    df[\"month\"] = df[\"timestamp\"].dt.month()\n",
    "    df[\"day\"] = df[\"timestamp\"].dt.day()"
   ]
  },
  {
   "cell_type": "code",
   "execution_count": 17,
   "outputs": [],
   "source": [
    "by = [\"year\", \"month\", \"day\", \"id\"]"
   ],
   "metadata": {
    "collapsed": false,
    "pycharm": {
     "name": "#%%\n"
    }
   }
  },
  {
   "cell_type": "code",
   "execution_count": 18,
   "outputs": [
    {
     "name": "stdout",
     "output_type": "stream",
     "text": [
      "8 29 0\n",
      "8 29 1\n",
      "8 29 2\n",
      "8 29 3\n",
      "8 29 4\n",
      "8 29 5\n",
      "8 29 6\n",
      "8 29 7\n",
      "8 29 8\n",
      "8 29 9\n",
      "8 29 10\n",
      "8 29 11\n",
      "8 29 12\n",
      "8 29 13\n",
      "8 29 14\n",
      "8 29 15\n",
      "8 29 16\n",
      "8 29 17\n",
      "8 29 18\n",
      "8 29 19\n",
      "8 29 20\n",
      "8 29 21\n",
      "8 29 22\n",
      "8 29 23\n",
      "8 30 0\n",
      "8 30 1\n",
      "8 30 2\n",
      "8 30 3\n",
      "8 30 4\n",
      "8 30 5\n",
      "8 30 6\n",
      "8 30 7\n",
      "8 30 8\n",
      "8 30 9\n",
      "8 30 10\n",
      "8 30 11\n",
      "8 30 12\n",
      "8 30 13\n",
      "8 30 14\n",
      "8 30 15\n",
      "8 30 16\n",
      "8 30 17\n",
      "8 30 18\n",
      "8 30 19\n",
      "8 30 20\n",
      "8 30 21\n",
      "8 30 22\n",
      "8 30 23\n",
      "9 1 0\n",
      "9 1 1\n",
      "9 1 2\n",
      "9 1 3\n",
      "9 1 4\n",
      "9 1 5\n",
      "9 1 6\n",
      "9 1 7\n",
      "9 1 8\n",
      "9 1 9\n",
      "9 1 10\n",
      "9 1 11\n",
      "9 1 12\n",
      "9 1 13\n",
      "9 1 14\n",
      "9 1 15\n",
      "9 1 16\n",
      "9 1 17\n",
      "9 1 18\n",
      "9 1 19\n",
      "9 1 20\n",
      "9 1 21\n",
      "9 1 22\n",
      "9 1 23\n"
     ]
    }
   ],
   "source": [
    "datapoint_counter = 0\n",
    "for (month, day) in [(8, 29), (8, 30), (9, 1)]:\n",
    "    out_wd = []\n",
    "    for hour in range(0, 24):\n",
    "        print(month, day, hour)\n",
    "        timestamps = pl.DataFrame({\"timestamp\": pl.date_range(low=datetime(2022, month, day, hour, 0, 0),\n",
    "                                                              high=datetime(2022, month, day, hour, 59, 59), interval=\"10s\")})\n",
    "        timestamps[\"dummy\"] = pl.repeat(value=True, n=timestamps.height, eager=True)\n",
    "        wind_direction_deltas = rng.normal(0, 3.6, size=df.height * timestamps.height)\n",
    "        wd = df[[\"init_wdir_value\", \"WindDirection\", \"dummy\"]].join(timestamps, left_on=[\"dummy\"],\n",
    "                                                                    right_on=[\"dummy\"]).drop(\n",
    "            \"dummy\").rename({\"WindDirection\": \"id\"})\n",
    "        wd[\"wdir_value\"] = wind_direction_deltas\n",
    "        wd[\"wdir_value\"] = wd.groupby([\"id\"], maintain_order=True).apply(lambda x: pl.DataFrame({\"wdir_value\": x[\"wdir_value\"].cumsum()}))[\n",
    "            \"wdir_value\"]\n",
    "        wd[\"wdir_value\"] = wd[\"init_wdir_value\"] + wd[\"wdir_value\"]\n",
    "        wd[\"wdir_value\"] = (wd[\"wdir_value\"] % 360).abs()\n",
    "        df[\"init_wdir_value\"] = wd.groupby([\"id\"], maintain_order=True).apply(lambda x:pl.DataFrame({\"init_wdir_value\":x[\"wdir_value\"].tail(1)}))[\"init_wdir_value\"]\n",
    "\n",
    "        wd = wd.drop(\"init_wdir_value\")\n",
    "        wd = wd.rename({\"wdir_value\": \"value\"})\n",
    "        add_timestamp_partition_columns(wd)\n",
    "        wd = wd.sort(by)\n",
    "        wd[\"datapoint_id\"] = wd.get_column(\"id\") + \"_\" + pl.Series(\"counter\", range(datapoint_counter, datapoint_counter + wd.height)).cast(str)\n",
    "        datapoint_counter += wd.height\n",
    "        out_wd.append(wd)\n",
    "    wd_arrow = pl.concat(out_wd, rechunk=True).to_arrow()\n",
    "    write_dataset(wd_arrow, format=\"parquet\", base_dir=\"timeseries_double\", partitioning=by, use_threads=False,\n",
    "                  existing_data_behavior=\"overwrite_or_ignore\", min_rows_per_group=1073741824, max_rows_per_file=1073741824,\n",
    "                  max_rows_per_group=1073741824, max_partitions=10000, max_open_files=10000)"
   ],
   "metadata": {
    "collapsed": false,
    "pycharm": {
     "name": "#%%\n"
    }
   }
  },
  {
   "cell_type": "markdown",
   "source": [],
   "metadata": {
    "collapsed": false,
    "pycharm": {
     "name": "#%% md\n"
    }
   }
  }
 ],
 "metadata": {
  "kernelspec": {
   "display_name": "Python 3 (ipykernel)",
   "language": "python",
   "name": "python3"
  },
  "language_info": {
   "codemirror_mode": {
    "name": "ipython",
    "version": 3
   },
   "file_extension": ".py",
   "mimetype": "text/x-python",
   "name": "python",
   "nbconvert_exporter": "python",
   "pygments_lexer": "ipython3",
   "version": "3.10.4"
  }
 },
 "nbformat": 4,
 "nbformat_minor": 5
}